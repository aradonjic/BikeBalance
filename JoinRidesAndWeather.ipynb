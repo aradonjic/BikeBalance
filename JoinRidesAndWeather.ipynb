{
 "cells": [
  {
   "cell_type": "code",
   "execution_count": 1,
   "metadata": {},
   "outputs": [],
   "source": [
    "# Import packages\n",
    "import numpy as np\n",
    "import pandas as pd\n",
    "import datetime as dt\n",
    "import matplotlib.pyplot as plt"
   ]
  },
  {
   "cell_type": "code",
   "execution_count": 2,
   "metadata": {},
   "outputs": [],
   "source": [
    "# Load the rides for a given year\n",
    "which_year = '2018'\n",
    "file_format = '.csv'\n",
    "rides_filename = 'AggregatedTrips' + which_year + file_format\n",
    "weather_filename = 'Weather' + which_year + file_format\n",
    "rides_df = pd.read_csv(rides_filename)\n",
    "weather_df = pd.read_csv(weather_filename)"
   ]
  },
  {
   "cell_type": "code",
   "execution_count": 3,
   "metadata": {},
   "outputs": [],
   "source": [
    "# Get a little more from the data out of the precipitation\n",
    "def is_rain(x):\n",
    "    if x == 'rain': \n",
    "        return 1\n",
    "    else: \n",
    "        return 0\n",
    "\n",
    "def is_snow(x):\n",
    "    if x == 'snow': \n",
    "        return 1\n",
    "    else: \n",
    "        return 0    \n",
    "        \n",
    "def is_sleet(x):\n",
    "    if x == 'sleet': \n",
    "        return 1\n",
    "    else: \n",
    "        return 0 \n",
    "\n",
    "def precYN(x):\n",
    "    if x in ['sleet', \"snow\", \"rain\"]: \n",
    "        return 1\n",
    "    else: \n",
    "        return 0 \n",
    "    \n",
    "def day_week(x):\n",
    "    if x == 0: \n",
    "        return \"Monday\"\n",
    "    elif x == 1: \n",
    "        return \"Tuesday\"\n",
    "    elif x == 2: \n",
    "        return \"Wednesday\"\n",
    "    elif x == 3: \n",
    "        return \"Thursday\"\n",
    "    elif x == 4: \n",
    "        return \"Friday\"\n",
    "    elif x == 5: \n",
    "        return \"Saturday\"\n",
    "    elif x == 6: \n",
    "        return \"Sunday\"\n"
   ]
  },
  {
   "cell_type": "code",
   "execution_count": 4,
   "metadata": {},
   "outputs": [],
   "source": [
    "# shape columns for join for weather data\n",
    "weather_df['hour'] = pd.DatetimeIndex(weather_df['hour']).hour\n",
    "weather_df['date'] = pd.to_datetime(weather_df['date_time'])\n",
    "weather_df['snow'] = weather_df[\"precipType\"].apply(is_snow)\n",
    "weather_df['rain'] = weather_df[\"precipType\"].apply(is_rain)\n",
    "weather_df['sleet'] = weather_df[\"precipType\"].apply(is_sleet)\n",
    "weather_df['precYN'] = weather_df[\"precipType\"].apply(precYN)\n",
    "\n",
    "# set dummy variables for weekdays\n",
    "weather_df['weekday_dummy'] = weather_df[\"weekday\"].apply(day_week)\n",
    "temp_dummy_week = pd.get_dummies(weather_df['weekday_dummy'])\n",
    "weather_df = pd.concat([weather_df, temp_dummy_week], axis=1)"
   ]
  },
  {
   "cell_type": "code",
   "execution_count": 5,
   "metadata": {},
   "outputs": [],
   "source": [
    "# TO DO: need to check why one hour is missing from 23s\n",
    "# categorize hours\n",
    "bins = [0, 6, 10, 16, 20]\n",
    "names = ['night', 'rushM', 'day', 'rushE', 'evening']\n",
    "temp_d = dict(enumerate(names, 1))\n",
    "weather_df['time_day'] = np.vectorize(temp_d.get)(np.digitize(weather_df['hour'], bins))\n",
    "\n",
    "temp_dummy_day = pd.get_dummies(weather_df['time_day'])\n",
    "weather_df = pd.concat([weather_df, temp_dummy_day], axis=1)"
   ]
  },
  {
   "cell_type": "code",
   "execution_count": 6,
   "metadata": {},
   "outputs": [],
   "source": [
    "# shape columns for join for rides data\n",
    "rides_df['hour'] = rides_df['start_time_hour']\n",
    "rides_df['date'] = pd.to_datetime(rides_df['start_time_date']) "
   ]
  },
  {
   "cell_type": "code",
   "execution_count": 7,
   "metadata": {},
   "outputs": [],
   "source": [
    "# merge\n",
    "new_df = pd.merge(rides_df, weather_df, on = ['date', 'hour'])"
   ]
  },
  {
   "cell_type": "code",
   "execution_count": 8,
   "metadata": {},
   "outputs": [],
   "source": [
    "result_filename = 'FullData' + which_year + file_format\n",
    "new_df.to_csv(result_filename)"
   ]
  }
 ],
 "metadata": {
  "kernelspec": {
   "display_name": "Python 3",
   "language": "python",
   "name": "python3"
  },
  "language_info": {
   "codemirror_mode": {
    "name": "ipython",
    "version": 3
   },
   "file_extension": ".py",
   "mimetype": "text/x-python",
   "name": "python",
   "nbconvert_exporter": "python",
   "pygments_lexer": "ipython3",
   "version": "3.7.2"
  }
 },
 "nbformat": 4,
 "nbformat_minor": 2
}
