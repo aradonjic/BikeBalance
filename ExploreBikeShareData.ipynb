{
 "cells": [
  {
   "cell_type": "code",
   "execution_count": 91,
   "metadata": {},
   "outputs": [],
   "source": [
    "# import toolboxes\n",
    "import numpy as np\n",
    "import pandas as pd"
   ]
  },
  {
   "cell_type": "code",
   "execution_count": 92,
   "metadata": {},
   "outputs": [
    {
     "data": {
      "text/plain": [
       "trip_id                  int64\n",
       "duration                 int64\n",
       "start_time              object\n",
       "end_time                object\n",
       "start_station            int64\n",
       "start_lat              float64\n",
       "start_lon              float64\n",
       "end_station              int64\n",
       "end_lat                float64\n",
       "end_lon                float64\n",
       "bike_id                  int64\n",
       "plan_duration            int64\n",
       "trip_route_category     object\n",
       "passholder_type         object\n",
       "dtype: object"
      ]
     },
     "execution_count": 92,
     "metadata": {},
     "output_type": "execute_result"
    }
   ],
   "source": [
    "# get the data\n",
    "df = pd.read_csv('indego-trips-2018-q1.csv')\n",
    "df.dtypes"
   ]
  },
  {
   "cell_type": "code",
   "execution_count": 93,
   "metadata": {},
   "outputs": [
    {
     "data": {
      "text/plain": [
       "start_station\n",
       "3010     2923\n",
       "3021     2542\n",
       "3023     2254\n",
       "3020     2139\n",
       "3045     2116\n",
       "3054     2012\n",
       "3032     1907\n",
       "3012     1860\n",
       "3108     1667\n",
       "3101     1619\n",
       "3022     1557\n",
       "3052     1507\n",
       "3066     1461\n",
       "3040     1458\n",
       "3063     1452\n",
       "3038     1451\n",
       "3102     1422\n",
       "3009     1393\n",
       "3064     1370\n",
       "3028     1360\n",
       "3007     1342\n",
       "3018     1287\n",
       "3058     1277\n",
       "3029     1235\n",
       "3053     1233\n",
       "3061     1165\n",
       "3030     1142\n",
       "3156     1122\n",
       "3078     1097\n",
       "3033     1052\n",
       "         ... \n",
       "3077      311\n",
       "3036      299\n",
       "3110      297\n",
       "3119      281\n",
       "3150      265\n",
       "3088      252\n",
       "3065      238\n",
       "3157      220\n",
       "3124      211\n",
       "3104      191\n",
       "3017      188\n",
       "3153      187\n",
       "3123      180\n",
       "3107      165\n",
       "3097      165\n",
       "3067      159\n",
       "3095      142\n",
       "3016      141\n",
       "3152      131\n",
       "3103      127\n",
       "3122       93\n",
       "3113       84\n",
       "3093       79\n",
       "3117       72\n",
       "3111       70\n",
       "3106       67\n",
       "3096       65\n",
       "3014        7\n",
       "90007       7\n",
       "90018       1\n",
       "Name: start_time, Length: 125, dtype: int64"
      ]
     },
     "execution_count": 93,
     "metadata": {},
     "output_type": "execute_result"
    }
   ],
   "source": [
    "# group most frequent stations\n",
    "df.groupby(['start_station'])['start_time'].nunique().sort_values(ascending = False) "
   ]
  },
  {
   "cell_type": "code",
   "execution_count": 94,
   "metadata": {},
   "outputs": [],
   "source": [
    "# group most frequent stations\n",
    "station3010 = df[(df['start_station'] == 3010)].reset_index()\n",
    "import calendar\n",
    "import datetime"
   ]
  },
  {
   "cell_type": "code",
   "execution_count": 95,
   "metadata": {},
   "outputs": [],
   "source": [
    "station3010['month'] = pd.DatetimeIndex(station3010['start_time']).month\n",
    "station3010['day'] = pd.DatetimeIndex(station3010['start_time']).day"
   ]
  },
  {
   "cell_type": "code",
   "execution_count": 96,
   "metadata": {},
   "outputs": [],
   "source": [
    "#feb_3010 = station3010[station3010['month']==2].reset_index()\n",
    "#feb_3010.to_csv('feb.csv')"
   ]
  },
  {
   "cell_type": "code",
   "execution_count": null,
   "metadata": {},
   "outputs": [],
   "source": []
  },
  {
   "cell_type": "code",
   "execution_count": 102,
   "metadata": {},
   "outputs": [],
   "source": [
    "station3045 = df[(df['start_station'] == 3045)].reset_index()\n",
    "station3045['month'] = pd.DatetimeIndex(station3045['start_time']).month\n",
    "station3045['weekday'] = pd.DatetimeIndex(station3045['start_time']).dayofweek\n",
    "# group by day\n"
   ]
  },
  {
   "cell_type": "code",
   "execution_count": 110,
   "metadata": {},
   "outputs": [
    {
     "data": {
      "text/plain": [
       "weekday\n",
       "0    131\n",
       "1    140\n",
       "2    141\n",
       "3    138\n",
       "4     90\n",
       "5     44\n",
       "6     39\n",
       "Name: trip_id, dtype: int64"
      ]
     },
     "execution_count": 110,
     "metadata": {},
     "output_type": "execute_result"
    }
   ],
   "source": [
    "newstation = station3045[(station3045['month']== 2)].reset_index()\n",
    "#station3045['weekday'] \n",
    "dayofweek = (newstation.groupby(['weekday'])['trip_id'].nunique())\n",
    "dayofweek"
   ]
  },
  {
   "cell_type": "code",
   "execution_count": 112,
   "metadata": {},
   "outputs": [
    {
     "data": {
      "image/png": "[encoded data removed]",
      "text/plain": [
       "<Figure size 432x288 with 1 Axes>"
      ]
     },
     "metadata": {
      "needs_background": "light"
     },
     "output_type": "display_data"
    }
   ],
   "source": [
    "import matplotlib.pyplot as plt\n",
    "%matplotlib inline\n",
    "f = plt.figure()\n",
    "days = [1,2,3,4,5,6,7]\n",
    "plt.plot(days, dayofweek, 'o-', color = '#00539C')\n",
    "\n",
    "plt.xlabel('Day of the week')\n",
    "plt.ylabel('Trips taken (#)')\n",
    "plt.xlim([0, 8])\n",
    "plt.ylim([0, 150])\n",
    "plt.xticks(np.arange(8), ('', 'Mo', 'Tu', 'We', 'Th', 'Fr', 'Sa', 'Su', ''))\n",
    "plt.show()\n",
    "\n",
    "f.savefig(\"dayOfWeek.pdf\", bbox_inches = 'tight')"
   ]
  },
  {
   "cell_type": "code",
   "execution_count": null,
   "metadata": {},
   "outputs": [],
   "source": []
  },
  {
   "cell_type": "code",
   "execution_count": null,
   "metadata": {},
   "outputs": [],
   "source": []
  }
 ],
 "metadata": {
  "kernelspec": {
   "display_name": "Python 3",
   "language": "python",
   "name": "python3"
  },
  "language_info": {
   "codemirror_mode": {
    "name": "ipython",
    "version": 3
   },
   "file_extension": ".py",
   "mimetype": "text/x-python",
   "name": "python",
   "nbconvert_exporter": "python",
   "pygments_lexer": "ipython3",
   "version": "3.7.2"
  }
 },
 "nbformat": 4,
 "nbformat_minor": 2
}
