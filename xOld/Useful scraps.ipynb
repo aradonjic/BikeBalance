{
 "cells": [
  {
   "cell_type": "code",
   "execution_count": null,
   "metadata": {},
   "outputs": [],
   "source": [
    "#y contains infinite value\n",
    "which_Fet = 'snow'\n",
    "print(np.isinf(X_train[which_Fet]).any())\n",
    "print(np.isnan(X_train[which_Fet]).any())\n",
    "print(np.isinf(X_test[which_Fet]).any())\n",
    "print(np.isnan(X_test[which_Fet]).any())\n",
    "\n",
    "#print(np.where(np.isnan(X_train)))\n",
    "\n",
    "#y has two infinite values.\n",
    "#plt.scatter(y_test,predictions)"
   ]
  }
 ],
 "metadata": {
  "kernelspec": {
   "display_name": "Python 3",
   "language": "python",
   "name": "python3"
  },
  "language_info": {
   "codemirror_mode": {
    "name": "ipython",
    "version": 3
   },
   "file_extension": ".py",
   "mimetype": "text/x-python",
   "name": "python",
   "nbconvert_exporter": "python",
   "pygments_lexer": "ipython3",
   "version": "3.7.2"
  }
 },
 "nbformat": 4,
 "nbformat_minor": 2
}
