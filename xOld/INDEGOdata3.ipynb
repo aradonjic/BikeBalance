{
 "cells": [
  {
   "cell_type": "code",
   "execution_count": 4,
   "metadata": {},
   "outputs": [],
   "source": [
    "# Import packages\n",
    "import numpy as np\n",
    "import pandas as pd\n",
    "import os\n",
    "import datetime as dt"
   ]
  },
  {
   "cell_type": "code",
   "execution_count": 5,
   "metadata": {},
   "outputs": [],
   "source": [
    "# Set directories\n",
    "data_dir = os.getcwd()\n",
    "filenames = ['indego_trips_2017_q1', 'indego_trips_2017_q2',\n",
    "             'indego_trips_2017_q3', 'indego_trips_2017_q4']\n",
    "column_names = ['trip_id', 'duration', 'start_time', 'end_time','start_station','start_lat','start_lon', \n",
    "                'end_station','end_lat','end_lon', 'bike_id', 'plan_duration', 'trip_route_category', 'passholder_type']\n",
    "file_format = '.csv'; "
   ]
  },
  {
   "cell_type": "code",
   "execution_count": 6,
   "metadata": {},
   "outputs": [],
   "source": [
    "# Concatinate all quarters for 2017 into a single data frame\n",
    "df = pd.DataFrame(columns = column_names)\n",
    "for x in range(len(filenames)): \n",
    "    current_file = os.path.join(data_dir + '/' + filenames[x] + file_format)\n",
    "    temp = pd.read_csv(current_file)\n",
    "    df = df.append(temp)"
   ]
  },
  {
   "cell_type": "code",
   "execution_count": 7,
   "metadata": {},
   "outputs": [],
   "source": [
    "# create column about the duration of the trip from start and end data\n",
    "df['start_time_dt'] = pd.to_datetime(df['start_time'])\n",
    "df['end_time_dt'] = pd.to_datetime(df['end_time'])"
   ]
  },
  {
   "cell_type": "code",
   "execution_count": 16,
   "metadata": {},
   "outputs": [],
   "source": [
    "df['duration'] = pd.to_numeric(df['duration'])"
   ]
  },
  {
   "cell_type": "code",
   "execution_count": 64,
   "metadata": {},
   "outputs": [
    {
     "name": "stdout",
     "output_type": "stream",
     "text": [
      "0.025378843511862134\n",
      "0.022760066428902017\n"
     ]
    }
   ],
   "source": [
    "maxDuration = df[\"duration\"].mean() + df[\"duration\"].std()*1\n",
    "minDuration  = 2\n",
    "numDroppedTop = (len(df[df['duration']>=maxDuration]))/(len(df[df['duration']<maxDuration]))\n",
    "numDroppedBottom = (len(df[df['duration']<=minDuration]))/(len(df[df['duration']>minDuration]))\n",
    "print(numDroppedTop)\n",
    "print(numDroppedBottom)"
   ]
  },
  {
   "cell_type": "code",
   "execution_count": null,
   "metadata": {},
   "outputs": [],
   "source": [
    "# group most frequent stations\n",
    "df.groupby(['start_station'])['start_time'].nunique().sort_values(ascending = False) \n",
    "# group most frequent stations\n",
    "station3010 = df[(df['start_station'] == 3010)].reset_index()\n",
    "import calendar\n",
    "import datetime"
   ]
  },
  {
   "cell_type": "code",
   "execution_count": null,
   "metadata": {},
   "outputs": [],
   "source": [
    "station3010['month'] = pd.DatetimeIndex(station3010['start_time']).month\n",
    "station3010['day'] = pd.DatetimeIndex(station3010['start_time']).day"
   ]
  },
  {
   "cell_type": "code",
   "execution_count": null,
   "metadata": {},
   "outputs": [],
   "source": [
    "#feb_3010 = station3010[station3010['month']==2].reset_index()\n",
    "#feb_3010.to_csv('feb.csv')"
   ]
  },
  {
   "cell_type": "code",
   "execution_count": null,
   "metadata": {},
   "outputs": [],
   "source": [
    "numDroppedBottom"
   ]
  },
  {
   "cell_type": "code",
   "execution_count": null,
   "metadata": {},
   "outputs": [],
   "source": [
    "station3045 = df[(df['start_station'] == 3045)].reset_index()\n",
    "station3045['month'] = pd.DatetimeIndex(station3045['start_time']).month\n",
    "station3045['weekday'] = pd.DatetimeIndex(station3045['start_time']).dayofweek\n",
    "# group by day\n"
   ]
  },
  {
   "cell_type": "code",
   "execution_count": null,
   "metadata": {},
   "outputs": [],
   "source": [
    "newstation = station3045[(station3045['month']== 2)].reset_index()\n",
    "#station3045['weekday'] \n",
    "dayofweek = (newstation.groupby(['weekday'])['trip_id'].nunique())\n",
    "dayofweek"
   ]
  },
  {
   "cell_type": "code",
   "execution_count": null,
   "metadata": {},
   "outputs": [],
   "source": [
    "import matplotlib.pyplot as plt\n",
    "%matplotlib inline\n",
    "f = plt.figure()\n",
    "days = [1,2,3,4,5,6,7]\n",
    "plt.plot(days, dayofweek, 'o-', color = '#00539C')\n",
    "\n",
    "plt.xlabel('Day of the week')\n",
    "plt.ylabel('Trips taken (#)')\n",
    "plt.xlim([0, 8])\n",
    "plt.ylim([0, 150])\n",
    "plt.xticks(np.arange(8), ('', 'Mo', 'Tu', 'We', 'Th', 'Fr', 'Sa', 'Su', ''))\n",
    "plt.show()\n",
    "\n",
    "f.savefig(\"dayOfWeek.pdf\", bbox_inches = 'tight')"
   ]
  },
  {
   "cell_type": "code",
   "execution_count": null,
   "metadata": {},
   "outputs": [],
   "source": []
  },
  {
   "cell_type": "code",
   "execution_count": null,
   "metadata": {},
   "outputs": [],
   "source": []
  }
 ],
 "metadata": {
  "kernelspec": {
   "display_name": "Python 3",
   "language": "python",
   "name": "python3"
  },
  "language_info": {
   "codemirror_mode": {
    "name": "ipython",
    "version": 3
   },
   "file_extension": ".py",
   "mimetype": "text/x-python",
   "name": "python",
   "nbconvert_exporter": "python",
   "pygments_lexer": "ipython3",
   "version": "3.7.2"
  }
 },
 "nbformat": 4,
 "nbformat_minor": 2
}
