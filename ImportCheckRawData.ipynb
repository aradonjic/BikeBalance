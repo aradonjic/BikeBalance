{
 "cells": [
  {
   "cell_type": "code",
   "execution_count": 1,
   "metadata": {},
   "outputs": [],
   "source": [
    "import pandas as pd\n",
    "import numpy as np"
   ]
  },
  {
   "cell_type": "code",
   "execution_count": 2,
   "metadata": {},
   "outputs": [
    {
     "name": "stdout",
     "output_type": "stream",
     "text": [
      "<class 'pandas.core.frame.DataFrame'>\n",
      "RangeIndex: 220441 entries, 0 to 220440\n",
      "Data columns (total 14 columns):\n",
      "trip_id                220441 non-null int64\n",
      "duration               220441 non-null int64\n",
      "start_time             220441 non-null object\n",
      "end_time               220441 non-null object\n",
      "start_station          220441 non-null int64\n",
      "start_lat              220399 non-null float64\n",
      "start_lon              220399 non-null float64\n",
      "end_station            220441 non-null int64\n",
      "end_lat                218743 non-null float64\n",
      "end_lon                218743 non-null float64\n",
      "bike_id                220441 non-null int64\n",
      "plan_duration          220441 non-null int64\n",
      "trip_route_category    220441 non-null object\n",
      "passholder_type        220441 non-null object\n",
      "dtypes: float64(4), int64(6), object(4)\n",
      "memory usage: 23.5+ MB\n"
     ]
    },
    {
     "data": {
      "text/plain": [
       "'2017-04-01 00:04:00'"
      ]
     },
     "execution_count": 2,
     "metadata": {},
     "output_type": "execute_result"
    }
   ],
   "source": [
    "df = pd.read_csv('indego_trips_2017_q2.csv')\n",
    "df.info()\n",
    "df['start_time'][0]"
   ]
  },
  {
   "cell_type": "code",
   "execution_count": null,
   "metadata": {},
   "outputs": [],
   "source": []
  },
  {
   "cell_type": "code",
   "execution_count": null,
   "metadata": {},
   "outputs": [],
   "source": []
  }
 ],
 "metadata": {
  "kernelspec": {
   "display_name": "Python 3",
   "language": "python",
   "name": "python3"
  },
  "language_info": {
   "codemirror_mode": {
    "name": "ipython",
    "version": 3
   },
   "file_extension": ".py",
   "mimetype": "text/x-python",
   "name": "python",
   "nbconvert_exporter": "python",
   "pygments_lexer": "ipython3",
   "version": "3.7.1"
  }
 },
 "nbformat": 4,
 "nbformat_minor": 2
}
