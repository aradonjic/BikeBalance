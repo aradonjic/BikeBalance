{
 "cells": [
  {
   "cell_type": "markdown",
   "metadata": {},
   "source": [
    "<h1>Aggregate and plot rides across time</h1>"
   ]
  },
  {
   "cell_type": "code",
   "execution_count": null,
   "metadata": {},
   "outputs": [],
   "source": [
    "# Import packages\n",
    "# General\n",
    "import pandas as pd\n",
    "import numpy as np\n",
    "\n",
    "# Data visualisation  \n",
    "import matplotlib.pyplot as plt\n",
    "from matplotlib import ticker\n",
    "from matplotlib.ticker import FuncFormatter\n",
    "        \n",
    "# For dates\n",
    "from datetime import datetime as dt\n",
    "from datetime import timedelta\n",
    "\n",
    "# For holidays\n",
    "import holidays\n",
    "import pickle"
   ]
  },
  {
   "cell_type": "code",
   "execution_count": null,
   "metadata": {},
   "outputs": [],
   "source": [
    "# open a file, where you stored the pickled data\n",
    "year_list = ['2015','2016', \"2017\", \"2018\"]\n",
    "columns = ['main'] \n",
    "for year in year_list: \n",
    "    filename = 'rides_per_month' + year + '.pckl'\n",
    "    file = open(filename, 'rb')\n",
    "    tmp = pickle.load(file)\n",
    "    if year == '2015':\n",
    "        temp_rides = pd.DataFrame(index = tmp.index.values.tolist(), columns = tmp.values).reset_index()\n",
    "        rides = pd.DataFrame(index = tmp.index.values.tolist(), columns = columns)\n",
    "        rides['main'] = tmp.values\n",
    "    else: \n",
    "        temp_rides = pd.DataFrame(index = tmp.index.values.tolist(), columns = tmp.values).reset_index()\n",
    "        rides_temp2 = pd.DataFrame(index = tmp.index.values.tolist(), columns = columns)\n",
    "        rides_temp2['main'] = tmp.values\n",
    "        rides = rides.append(rides_temp2)"
   ]
  },
  {
   "cell_type": "code",
   "execution_count": null,
   "metadata": {},
   "outputs": [],
   "source": [
    "# Make a plot of rides per hour\n",
    "# Ticks for month are hardcoded for now\n",
    "%matplotlib inline\n",
    "f = plt.figure()\n",
    "plt.plot(rides['main'].reset_index()['main'], 'o-', color = (33/255, 131/255, 200/255), markersize = 10)\n",
    "\n",
    "plt.plot([8, 8], [0, 100000], color=(0.5, 0.5, 0.5), linestyle='--', linewidth=2)\n",
    "plt.plot([20, 20], [0, 100000], color=(0.5, 0.5, 0.5), linestyle='--', linewidth=2)\n",
    "plt.plot([32, 32], [0, 100000], color=(0.5, 0.5, 0.5), linestyle='--', linewidth=2)\n",
    "#plt.plot([36.5, 36.5], [0, 100000], color=(0.85, 0.85, 0.85), linestyle='--', linewidth=2)\n",
    "#plt.plot([38, 38], [0, 100000], color=(0.5, 0.5, 0.5), linestyle='--', linewidth=2)\n",
    "plt.ylim([0, 100000])\n",
    "        \n",
    "plt.xlabel('month/year', fontsize = 13)\n",
    "plt.ylabel('# Rides', fontsize = 13)\n",
    "ax = plt.gca()\n",
    "\n",
    "ax.get_yticks([0,20000,40000,60000,80000,100000]) # choose which x locations to have ticks\n",
    "ax.set_yticklabels(('0','20K','40K','60K','80K','100K'), fontsize = 13)\n",
    "ax.set_xticks([0, 8, 20, 32, 38, 40]) # choose which x locations to have ticks\n",
    "ax.set_xticklabels(('05/15','01/16','01/17','01/18','07/18'), fontsize = 13)\n",
    "plt.show()\n",
    "# Save figure\n",
    "f.savefig(\"range_of_rides.pdf\", bbox_inches = 'tight')                        "
   ]
  }
 ],
 "metadata": {
  "kernelspec": {
   "display_name": "Python 3",
   "language": "python",
   "name": "python3"
  },
  "language_info": {
   "codemirror_mode": {
    "name": "ipython",
    "version": 3
   },
   "file_extension": ".py",
   "mimetype": "text/x-python",
   "name": "python",
   "nbconvert_exporter": "python",
   "pygments_lexer": "ipython3",
   "version": "3.7.2"
  }
 },
 "nbformat": 4,
 "nbformat_minor": 2
}
