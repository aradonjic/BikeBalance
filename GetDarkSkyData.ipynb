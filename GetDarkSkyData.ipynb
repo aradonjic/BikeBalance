{
 "cells": [
  {
   "cell_type": "markdown",
   "metadata": {},
   "source": [
    "<h1> Step 2: Get historic weather data </h1>"
   ]
  },
  {
   "cell_type": "code",
   "execution_count": 1,
   "metadata": {},
   "outputs": [],
   "source": [
    "# Import packages\n",
    "# For data frames\n",
    "import pandas as pd\n",
    "import numpy as np\n",
    "\n",
    "# For dates\n",
    "from datetime import datetime as dt\n",
    "# For holidays\n",
    "import holidays\n",
    "\n",
    "# Functinos for extracting weather\n",
    "import bb_modify_weather"
   ]
  },
  {
   "cell_type": "code",
   "execution_count": 2,
   "metadata": {},
   "outputs": [],
   "source": [
    "# Set parameters for weather extraction\n",
    "with open('dark_sky_apikey.txt', 'r') as myfile:\n",
    "    apikey = myfile.readlines()\n",
    "phila = [39.9526, -75.1652]\n",
    "PHILA = apikey[0], phila[0], phila[1]\n",
    "us_holidays = holidays.UnitedStates()"
   ]
  },
  {
   "cell_type": "code",
   "execution_count": 12,
   "metadata": {},
   "outputs": [
    {
     "name": "stdout",
     "output_type": "stream",
     "text": [
      "1 day, 0:00:00\n"
     ]
    }
   ],
   "source": [
    "# Set dates for weather extraction\n",
    "# Select year\n",
    "which_year = 2019\n",
    "start_date = str(which_year-1) +\"-12-31\"\n",
    "if which_year == 2018:\n",
    "    stop_date = str(which_year) + \"-10-01\"\n",
    "else: \n",
    "    stop_date = str(which_year) + \"-01-01\"\n",
    "start = dt.strptime(start_date, \"%Y-%m-%d\")\n",
    "stop = dt.strptime(stop_date, \"%Y-%m-%d\")\n",
    "# Quick check of how many days are requested\n",
    "print(stop-start)"
   ]
  },
  {
   "cell_type": "code",
   "execution_count": 13,
   "metadata": {},
   "outputs": [],
   "source": [
    "# Get the dataframe and save it\n",
    "weather_df = bb_modify_weather.extract_weather_info(start, stop, us_holidays, PHILA)\n",
    "weather_filename = \"1Weather\" + str(which_year) + \".csv\"\n",
    "weather_df.to_csv(weather_filename)"
   ]
  }
 ],
 "metadata": {
  "kernelspec": {
   "display_name": "Python 3",
   "language": "python",
   "name": "python3"
  },
  "language_info": {
   "codemirror_mode": {
    "name": "ipython",
    "version": 3
   },
   "file_extension": ".py",
   "mimetype": "text/x-python",
   "name": "python",
   "nbconvert_exporter": "python",
   "pygments_lexer": "ipython3",
   "version": "3.7.2"
  }
 },
 "nbformat": 4,
 "nbformat_minor": 2
}
