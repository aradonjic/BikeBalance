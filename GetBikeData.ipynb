{
 "cells": [
  {
   "cell_type": "code",
   "execution_count": 15,
   "metadata": {},
   "outputs": [],
   "source": [
    "import pandas as pd\n",
    "import requests\n",
    "from datetime import datetime\n",
    "import tzlocal  # $ pip install tzlocal\n",
    "import pickle"
   ]
  },
  {
   "cell_type": "markdown",
   "metadata": {},
   "source": [
    "<h1> Download the station feed </h1>"
   ]
  },
  {
   "cell_type": "code",
   "execution_count": 16,
   "metadata": {},
   "outputs": [
    {
     "data": {
      "text/plain": [
       "dict_keys(['last_updated', 'ttl', 'data'])"
      ]
     },
     "execution_count": 16,
     "metadata": {},
     "output_type": "execute_result"
    }
   ],
   "source": [
    "# Download the feed\n",
    "url = 'https://gbfs.bcycle.com/bcycle_indego/station_status.json'\n",
    "report = requests.get(url).json()\n",
    "report.keys()"
   ]
  },
  {
   "cell_type": "code",
   "execution_count": 17,
   "metadata": {},
   "outputs": [
    {
     "data": {
      "text/plain": [
       "datetime.datetime(2019, 2, 25, 8, 0, 47, tzinfo=<DstTzInfo 'America/New_York' EST-1 day, 19:00:00 STD>)"
      ]
     },
     "execution_count": 17,
     "metadata": {},
     "output_type": "execute_result"
    }
   ],
   "source": [
    "# Make a data frame from the report and recover the time of the report\n",
    "df = pd.DataFrame(report['data']['stations'])\n",
    "unix_timestamp = df['last_reported'].value_counts().index.values[0]\n",
    "local_timezone = tzlocal.get_localzone() # get pytz timezone\n",
    "local_time = datetime.fromtimestamp(unix_timestamp, local_timezone)\n",
    "local_time"
   ]
  },
  {
   "cell_type": "code",
   "execution_count": 18,
   "metadata": {},
   "outputs": [],
   "source": [
    "# Extract general information about stations. Connect it with the list of active stations (eliminate inactive) \n",
    "df['Station ID'] = df['station_id'].apply(lambda x: int(x[-4:]))\n",
    "df['station_capacity'] = df['num_bikes_available']+df['num_docks_available']\n",
    "stations_df = pd.read_csv('data/indego-stations-2019-01-04.csv').reset_index()\n",
    "stations_merged = pd.merge(stations_df, df, on = ['Station ID'])\n",
    "stations_merged = stations_merged[stations_merged['Status']!=\"Inactive\"]"
   ]
  },
  {
   "cell_type": "code",
   "execution_count": 19,
   "metadata": {},
   "outputs": [],
   "source": [
    "# Load the saved list of most valuable stations. \n",
    "# Make a new dataframe that will have the info about station capacity and current state. \n",
    "this_filename = 'application/flask_app/most_valuable_stations_dict.pckl'\n",
    "mv_stations = pickle.load(open(this_filename, 'rb'))\n",
    "df_mv = pd.DataFrame.from_dict(mv_stations,orient = 'index')\n",
    "df_mv['station_id'] = df_mv.index\n",
    "df_mv['station_name'] = df_mv[0]\n",
    "df_mv = df_mv.drop(columns = 0).reset_index() \n",
    "capacity = []\n",
    "bikes_now = []\n",
    "st_list = list(mv_stations.keys()); \n",
    "for station in st_list: \n",
    "    capacity.append(stations_merged[stations_merged['Station ID'] == station]['station_capacity'].values[0])\n",
    "    bikes_now.append(stations_merged[stations_merged['Station ID'] == station]['num_bikes_available'].values[0])\n",
    "df_mv['station_capacity'] = capacity\n",
    "df_mv['n_bikes'] = bikes_now"
   ]
  },
  {
   "cell_type": "code",
   "execution_count": 20,
   "metadata": {},
   "outputs": [],
   "source": [
    "# write the current state into flask\n",
    "f = open('application/flask_app/curent_bike_state_mvs.pckl', 'wb')\n",
    "pickle.dump(df_mv, f)\n",
    "f.close()"
   ]
  },
  {
   "cell_type": "code",
   "execution_count": 21,
   "metadata": {},
   "outputs": [
    {
     "data": {
      "text/html": [
       "<div>\n",
       "<style scoped>\n",
       "    .dataframe tbody tr th:only-of-type {\n",
       "        vertical-align: middle;\n",
       "    }\n",
       "\n",
       "    .dataframe tbody tr th {\n",
       "        vertical-align: top;\n",
       "    }\n",
       "\n",
       "    .dataframe thead th {\n",
       "        text-align: right;\n",
       "    }\n",
       "</style>\n",
       "<table border=\"1\" class=\"dataframe\">\n",
       "  <thead>\n",
       "    <tr style=\"text-align: right;\">\n",
       "      <th></th>\n",
       "      <th>index</th>\n",
       "      <th>station_id</th>\n",
       "      <th>station_name</th>\n",
       "      <th>station_capacity</th>\n",
       "      <th>n_bikes</th>\n",
       "    </tr>\n",
       "  </thead>\n",
       "  <tbody>\n",
       "    <tr>\n",
       "      <th>0</th>\n",
       "      <td>3010</td>\n",
       "      <td>3010</td>\n",
       "      <td>15th &amp; Spruce</td>\n",
       "      <td>19</td>\n",
       "      <td>5</td>\n",
       "    </tr>\n",
       "    <tr>\n",
       "      <th>1</th>\n",
       "      <td>3021</td>\n",
       "      <td>3021</td>\n",
       "      <td>18th &amp; JFK</td>\n",
       "      <td>34</td>\n",
       "      <td>18</td>\n",
       "    </tr>\n",
       "    <tr>\n",
       "      <th>2</th>\n",
       "      <td>3054</td>\n",
       "      <td>3054</td>\n",
       "      <td>Rodin Museum</td>\n",
       "      <td>35</td>\n",
       "      <td>11</td>\n",
       "    </tr>\n",
       "    <tr>\n",
       "      <th>3</th>\n",
       "      <td>3045</td>\n",
       "      <td>3045</td>\n",
       "      <td>13th &amp; Locust</td>\n",
       "      <td>15</td>\n",
       "      <td>6</td>\n",
       "    </tr>\n",
       "    <tr>\n",
       "      <th>4</th>\n",
       "      <td>3057</td>\n",
       "      <td>3057</td>\n",
       "      <td>Philadelphia Museum of Art</td>\n",
       "      <td>23</td>\n",
       "      <td>2</td>\n",
       "    </tr>\n",
       "    <tr>\n",
       "      <th>5</th>\n",
       "      <td>3020</td>\n",
       "      <td>3020</td>\n",
       "      <td>University City Station</td>\n",
       "      <td>35</td>\n",
       "      <td>22</td>\n",
       "    </tr>\n",
       "    <tr>\n",
       "      <th>6</th>\n",
       "      <td>3032</td>\n",
       "      <td>3032</td>\n",
       "      <td>23rd &amp; South</td>\n",
       "      <td>16</td>\n",
       "      <td>7</td>\n",
       "    </tr>\n",
       "    <tr>\n",
       "      <th>7</th>\n",
       "      <td>3108</td>\n",
       "      <td>3108</td>\n",
       "      <td>15th &amp; Market</td>\n",
       "      <td>21</td>\n",
       "      <td>10</td>\n",
       "    </tr>\n",
       "    <tr>\n",
       "      <th>8</th>\n",
       "      <td>3012</td>\n",
       "      <td>3012</td>\n",
       "      <td>21st &amp; Catharine</td>\n",
       "      <td>27</td>\n",
       "      <td>5</td>\n",
       "    </tr>\n",
       "    <tr>\n",
       "      <th>9</th>\n",
       "      <td>3101</td>\n",
       "      <td>3101</td>\n",
       "      <td>11th &amp; South</td>\n",
       "      <td>18</td>\n",
       "      <td>13</td>\n",
       "    </tr>\n",
       "  </tbody>\n",
       "</table>\n",
       "</div>"
      ],
      "text/plain": [
       "   index  station_id                station_name  station_capacity  n_bikes\n",
       "0   3010        3010               15th & Spruce                19        5\n",
       "1   3021        3021                  18th & JFK                34       18\n",
       "2   3054        3054                Rodin Museum                35       11\n",
       "3   3045        3045               13th & Locust                15        6\n",
       "4   3057        3057  Philadelphia Museum of Art                23        2\n",
       "5   3020        3020     University City Station                35       22\n",
       "6   3032        3032                23rd & South                16        7\n",
       "7   3108        3108               15th & Market                21       10\n",
       "8   3012        3012            21st & Catharine                27        5\n",
       "9   3101        3101                11th & South                18       13"
      ]
     },
     "execution_count": 21,
     "metadata": {},
     "output_type": "execute_result"
    }
   ],
   "source": [
    "df_mv"
   ]
  },
  {
   "cell_type": "code",
   "execution_count": null,
   "metadata": {},
   "outputs": [],
   "source": []
  },
  {
   "cell_type": "code",
   "execution_count": null,
   "metadata": {},
   "outputs": [],
   "source": []
  }
 ],
 "metadata": {
  "kernelspec": {
   "display_name": "Python 3",
   "language": "python",
   "name": "python3"
  },
  "language_info": {
   "codemirror_mode": {
    "name": "ipython",
    "version": 3
   },
   "file_extension": ".py",
   "mimetype": "text/x-python",
   "name": "python",
   "nbconvert_exporter": "python",
   "pygments_lexer": "ipython3",
   "version": "3.7.2"
  }
 },
 "nbformat": 4,
 "nbformat_minor": 2
}
