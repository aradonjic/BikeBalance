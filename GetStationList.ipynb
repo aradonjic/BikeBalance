{
 "cells": [
  {
   "cell_type": "markdown",
   "metadata": {},
   "source": [
    "<h2>Additional Analyses 2. Find common stations across years</h2>"
   ]
  },
  {
   "cell_type": "code",
   "execution_count": 4,
   "metadata": {},
   "outputs": [],
   "source": [
    "# Import packages\n",
    "import numpy as np\n",
    "import pandas as pd\n",
    "import os\n",
    "import datetime as dt\n",
    "from datetime import timedelta\n",
    "import pickle\n",
    "\n",
    "# Import for plot\n",
    "import matplotlib.pyplot as plt\n",
    "\n",
    "# Import custom functions\n",
    "import bb_clean_data"
   ]
  },
  {
   "cell_type": "code",
   "execution_count": 64,
   "metadata": {},
   "outputs": [],
   "source": [
    "# Set directories and other file parameters\n",
    "main_dir = os.getcwd() \n",
    "data_dir = main_dir + '/data'\n",
    "filename_pre = 'indego_trips_'\n",
    "file_format = '.csv'\n",
    "year_range = ['2015','2016','2017','2018'] \n",
    "column_names = ['trip_id', 'duration', 'start_time', 'end_time','start_station','start_lat','start_lon', \n",
    "                    'end_station','end_lat','end_lon', 'bike_id', 'plan_duration', 'trip_route_category', 'passholder_type']\n",
    "\n",
    "for which_year in year_range: \n",
    "    filenames = bb_clean_data.get_filenames_year(which_year, filename_pre, file_format)\n",
    "    df = pd.DataFrame(columns = column_names)\n",
    "    for x in range(len(filenames)):\n",
    "        current_file = os.path.join(data_dir + '/' + filenames[x])\n",
    "        temp = pd.read_csv(current_file)\n",
    "        df = df.append(temp)\n",
    "        if which_year == '2018': \n",
    "            station_list2018 = df['start_station'].dropna().unique().tolist()\n",
    "        elif which_year == '2017': \n",
    "            station_list2017 = df['start_station'].dropna().unique().tolist()\n",
    "        elif which_year == '2016': \n",
    "            station_list2016 = df['start_station'].dropna().unique().tolist()\n",
    "repeating_stations = set(station_list2017) & set(station_list2016) & set(station_list2016)      \n",
    "\n",
    "# Save the list with stations that repeat over days\n",
    "f = open('repeating_stations.pckl', 'wb')\n",
    "pickle.dump(repeating_stations, f)\n",
    "f.close()"
   ]
  },
  {
   "cell_type": "code",
   "execution_count": 65,
   "metadata": {},
   "outputs": [
    {
     "data": {
      "text/plain": [
       "'2018'"
      ]
     },
     "execution_count": 65,
     "metadata": {},
     "output_type": "execute_result"
    }
   ],
   "source": []
  },
  {
   "cell_type": "code",
   "execution_count": 62,
   "metadata": {},
   "outputs": [],
   "source": []
  },
  {
   "cell_type": "code",
   "execution_count": null,
   "metadata": {},
   "outputs": [],
   "source": []
  }
 ],
 "metadata": {
  "kernelspec": {
   "display_name": "Python 3",
   "language": "python",
   "name": "python3"
  },
  "language_info": {
   "codemirror_mode": {
    "name": "ipython",
    "version": 3
   },
   "file_extension": ".py",
   "mimetype": "text/x-python",
   "name": "python",
   "nbconvert_exporter": "python",
   "pygments_lexer": "ipython3",
   "version": "3.7.2"
  }
 },
 "nbformat": 4,
 "nbformat_minor": 2
}
