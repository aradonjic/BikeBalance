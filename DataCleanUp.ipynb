{
 "cells": [
  {
   "cell_type": "code",
   "execution_count": 1,
   "metadata": {},
   "outputs": [],
   "source": [
    "# Import packages\n",
    "import numpy as np\n",
    "import pandas as pd\n",
    "import os\n",
    "import datetime as dt"
   ]
  },
  {
   "cell_type": "code",
   "execution_count": 2,
   "metadata": {},
   "outputs": [],
   "source": [
    "# Set directories\n",
    "data_dir = os.getcwd()\n",
    "which_year = '2018'\n",
    "if which_year == '2018':\n",
    "    filenames = ['indego_trips_2018_q1', 'indego_trips_2018_q2',\n",
    "                 'indego_trips_2018_q3']\n",
    "elif which_year == '2017': \n",
    "    filenames = ['indego_trips_2017_q1', 'indego_trips_2017_q2',\n",
    "             'indego_trips_2017_q3', 'indego_trips_2017_q4']\n",
    "elif which_year == '2016': \n",
    "    filenames = ['indego_trips_2016_q1', 'indego_trips_2016_q2',\n",
    "             'indego_trips_2016_q3', 'indego_trips_2016_q4']\n",
    "column_names = ['trip_id', 'duration', 'start_time', 'end_time','start_station','start_lat','start_lon', \n",
    "                'end_station','end_lat','end_lon', 'bike_id', 'plan_duration', 'trip_route_category', 'passholder_type']\n",
    "file_format = '.csv'"
   ]
  },
  {
   "cell_type": "code",
   "execution_count": 3,
   "metadata": {},
   "outputs": [],
   "source": [
    "# Concatinate all quarters for a given year into a single data frame\n",
    "df = pd.DataFrame(columns = column_names)\n",
    "for x in range(len(filenames)): \n",
    "    current_file = os.path.join(data_dir + '/' + filenames[x] + file_format)\n",
    "    temp = pd.read_csv(current_file)\n",
    "    df = df.append(temp)"
   ]
  },
  {
   "cell_type": "code",
   "execution_count": 4,
   "metadata": {},
   "outputs": [
    {
     "name": "stdout",
     "output_type": "stream",
     "text": [
      "0.014099142624886886\n",
      "0.01875156487740991\n"
     ]
    }
   ],
   "source": [
    "# Identify potentially anomalous trips (based on length) and drop them\n",
    "maxDuration = df[\"duration\"].mean() + df[\"duration\"].std()*2\n",
    "minDuration  = 1\n",
    "numDroppedTop = (len(df[df['duration']>=maxDuration]))/(len(df[df['duration']<maxDuration]))\n",
    "numDroppedBottom = (len(df[df['duration']<=minDuration]))/(len(df[df['duration']>minDuration]))\n",
    "# MINOR: make this a nice output\n",
    "print(numDroppedTop)\n",
    "print(numDroppedBottom)"
   ]
  },
  {
   "cell_type": "code",
   "execution_count": 5,
   "metadata": {},
   "outputs": [],
   "source": [
    "# extract date and hour from the start dat\n",
    "pd.to_datetime(df['start_time'])\n",
    "df['start_time_date'] = pd.to_datetime(df['start_time']).dt.to_period('D')\n",
    "df['start_time_hour'] = pd.DatetimeIndex(df['start_time']).hour"
   ]
  },
  {
   "cell_type": "code",
   "execution_count": 6,
   "metadata": {},
   "outputs": [],
   "source": [
    "#group trips by station, then get date and hour\n",
    "station_df = df.groupby(['start_station', 'start_time_date', 'start_time_hour']).count()"
   ]
  },
  {
   "cell_type": "code",
   "execution_count": 7,
   "metadata": {},
   "outputs": [],
   "source": [
    "new_dataframe = 'AggregatedTrips' + which_year + '.csv'\n",
    "station_df.to_csv(new_dataframe)"
   ]
  }
 ],
 "metadata": {
  "kernelspec": {
   "display_name": "Python 3",
   "language": "python",
   "name": "python3"
  },
  "language_info": {
   "codemirror_mode": {
    "name": "ipython",
    "version": 3
   },
   "file_extension": ".py",
   "mimetype": "text/x-python",
   "name": "python",
   "nbconvert_exporter": "python",
   "pygments_lexer": "ipython3",
   "version": "3.7.2"
  }
 },
 "nbformat": 4,
 "nbformat_minor": 2
}
